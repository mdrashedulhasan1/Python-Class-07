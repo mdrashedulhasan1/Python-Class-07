{
  "nbformat": 4,
  "nbformat_minor": 0,
  "metadata": {
    "colab": {
      "name": "Python_Class_08.ipynb",
      "provenance": [],
      "authorship_tag": "ABX9TyMaMnUokmPP6wUhOL70o3na",
      "include_colab_link": true
    },
    "kernelspec": {
      "name": "python3",
      "display_name": "Python 3"
    },
    "language_info": {
      "name": "python"
    }
  },
  "cells": [
    {
      "cell_type": "markdown",
      "metadata": {
        "id": "view-in-github",
        "colab_type": "text"
      },
      "source": [
        "<a href=\"https://colab.research.google.com/github/mdrashedulhasan1/Python-Class-07/blob/main/Python_Class_08.ipynb\" target=\"_parent\"><img src=\"https://colab.research.google.com/assets/colab-badge.svg\" alt=\"Open In Colab\"/></a>"
      ]
    },
    {
      "cell_type": "code",
      "execution_count": null,
      "metadata": {
        "colab": {
          "base_uri": "https://localhost:8080/"
        },
        "id": "DMa88w1CwUr3",
        "outputId": "ae160726-2a6d-42a5-a981-cb01c7a2a4b0"
      },
      "outputs": [
        {
          "output_type": "stream",
          "name": "stdout",
          "text": [
            "encode or decode?\n",
            "decode\n",
            "Type your massage\n",
            "cde\n",
            "Type the shift number:\n",
            "2\n",
            "The encode text is abc\n"
          ]
        }
      ],
      "source": [
        "# def my_function(one, two, three):\n",
        "#   print(one, two, three)\n",
        "\n",
        "# for i in range(10):\n",
        "#   my_function(1, 2, 3)\n",
        "\n",
        "# def friend_name(name):\n",
        "#   print(f\"Hello {name}\")\n",
        "#   print(f\"How do you do {name}?\")\n",
        "# friend_name(\"Bristy\")\n",
        "\n",
        "# def address(name, location):\n",
        "#   print(f\"My name is {name}\")\n",
        "#   print(f\"Location {location}\")\n",
        "# address(\"Tapu\", \"Tangail\")\n",
        "\n",
        "# n = int(input(\"Check this number:\")) #5 \n",
        "# def prime_checker(number): #5\n",
        "#   is_prime = True\n",
        "#   for i in range(2,number):\n",
        "#     if number%i==0:\n",
        "#       is_prime = False         \n",
        "#   if is_prime == True:\n",
        "#     print(\"It's a prime number\")\n",
        "#   else:\n",
        "#     print(\"It's not a prime number\")\n",
        "# prime_checker(number=n)\n",
        "\n",
        "alphabet = ['a', 'b', 'c', 'd', 'e']\n",
        "direction = input(\"encode or decode?\\n\")\n",
        "text = input(\"Type your massage\\n\") #abc\n",
        "shift = int(input(\"Type the shift number:\\n\")) #2\n",
        "\n",
        "def encrypt(plain_text,shift_amount):\n",
        "  cipher_text = \"\"\n",
        "  for letter in plain_text:\n",
        "    position = alphabet.index(letter) #0\n",
        "    new_position = position+shift_amount #234\n",
        "    new_letter = alphabet[new_position] #cde \n",
        "    cipher_text += new_letter #cipher_text =cipher_text + new_letter #\"cde\"\n",
        "  print(f\"The encode text is {cipher_text}\")\n",
        "\n",
        "def decrypt(cipher_text, shift_amount):\n",
        "  plain_text = \"\"\n",
        "  for letter in cipher_text:\n",
        "    position = alphabet.index(letter)\n",
        "    new_position = position-shift_amount\n",
        "    plain_text += alphabet[new_position]\n",
        "  print(f\"The encode text is {plain_text}\")\n",
        "\n",
        "if direction == \"encode\":\n",
        "  encrypt(plain_text=text,shift_amount=shift)\n",
        "else:\n",
        "  decrypt(cipher_text=text, shift_amount=shift)  \n"
      ]
    }
  ]
}